{
 "cells": [
  {
   "cell_type": "code",
   "execution_count": 21,
   "metadata": {},
   "outputs": [
    {
     "name": "stdout",
     "output_type": "stream",
     "text": [
      "Defaulting to user installation because normal site-packages is not writeable\n",
      "Requirement already satisfied: azure-ai-formrecognizer in /Users/jnoel2/Library/Python/3.9/lib/python/site-packages (3.3.1)\n",
      "Requirement already satisfied: azure-core<2.0.0,>=1.23.0 in /Users/jnoel2/Library/Python/3.9/lib/python/site-packages (from azure-ai-formrecognizer) (1.29.4)\n",
      "Requirement already satisfied: typing-extensions>=4.0.1 in /Users/jnoel2/Library/Python/3.9/lib/python/site-packages (from azure-ai-formrecognizer) (4.8.0)\n",
      "Requirement already satisfied: msrest>=0.6.21 in /Users/jnoel2/Library/Python/3.9/lib/python/site-packages (from azure-ai-formrecognizer) (0.7.1)\n",
      "Requirement already satisfied: azure-common~=1.1 in /Users/jnoel2/Library/Python/3.9/lib/python/site-packages (from azure-ai-formrecognizer) (1.1.28)\n",
      "Requirement already satisfied: six>=1.11.0 in /Library/Developer/CommandLineTools/Library/Frameworks/Python3.framework/Versions/3.9/lib/python3.9/site-packages (from azure-core<2.0.0,>=1.23.0->azure-ai-formrecognizer) (1.15.0)\n",
      "Requirement already satisfied: requests>=2.18.4 in /Users/jnoel2/Library/Python/3.9/lib/python/site-packages (from azure-core<2.0.0,>=1.23.0->azure-ai-formrecognizer) (2.31.0)\n",
      "Requirement already satisfied: requests-oauthlib>=0.5.0 in /Users/jnoel2/Library/Python/3.9/lib/python/site-packages (from msrest>=0.6.21->azure-ai-formrecognizer) (1.3.1)\n",
      "Requirement already satisfied: certifi>=2017.4.17 in /Users/jnoel2/Library/Python/3.9/lib/python/site-packages (from msrest>=0.6.21->azure-ai-formrecognizer) (2023.7.22)\n",
      "Requirement already satisfied: isodate>=0.6.0 in /Users/jnoel2/Library/Python/3.9/lib/python/site-packages (from msrest>=0.6.21->azure-ai-formrecognizer) (0.6.1)\n",
      "Requirement already satisfied: urllib3<3,>=1.21.1 in /Users/jnoel2/Library/Python/3.9/lib/python/site-packages (from requests>=2.18.4->azure-core<2.0.0,>=1.23.0->azure-ai-formrecognizer) (2.0.6)\n",
      "Requirement already satisfied: charset-normalizer<4,>=2 in /Users/jnoel2/Library/Python/3.9/lib/python/site-packages (from requests>=2.18.4->azure-core<2.0.0,>=1.23.0->azure-ai-formrecognizer) (3.3.0)\n",
      "Requirement already satisfied: idna<4,>=2.5 in /Users/jnoel2/Library/Python/3.9/lib/python/site-packages (from requests>=2.18.4->azure-core<2.0.0,>=1.23.0->azure-ai-formrecognizer) (3.4)\n",
      "Requirement already satisfied: oauthlib>=3.0.0 in /Users/jnoel2/Library/Python/3.9/lib/python/site-packages (from requests-oauthlib>=0.5.0->msrest>=0.6.21->azure-ai-formrecognizer) (3.2.2)\n",
      "\u001b[33mWARNING: You are using pip version 21.2.4; however, version 23.2.1 is available.\n",
      "You should consider upgrading via the '/Library/Developer/CommandLineTools/usr/bin/python3 -m pip install --upgrade pip' command.\u001b[0m\n",
      "Note: you may need to restart the kernel to use updated packages.\n",
      "Document contains content:  While healthcare is still in the early stages of its Al journey, we are seeing pharmaceutical and other life sciences organizations making major investments in Al and related technologies.\" TOM LAWRY | National Director for Al, Health and Life Sciences | Microsoft\n",
      "As pharmaceutical and other life sciences organizations invest in and deploy advanced technologies, they are beginning to see benefits in diverse areas across their organizations. Companies are looking to incorporate automation and continuing smart factory investments to reduce costs in drug discovery, research and development, and manufacturing and supply chain management. Many life sciences organizations are also choosing to stay with more virtual approaches in the \"new normal\" - particularly in clinical trials and sales and marketing areas.\n",
      "Enhancing the patient and provider experience\n",
      "Clinical trial sponsors are continually seeking to make clinical trials faster and to improve the experience for patients and physicians. The COVID-19 pandemic has accelerated the adoption of decentralized clinical trials, with an increase in trial activities conducted remotely and in participants' homes. In a Mckinsey survey1 up to 98 percent of patients reported satisfaction with telemedicine. In the same report, 72 percent of physicians surveyed reported similar or better experiences with remote engagement compared with in-person visits.\n",
      "The shift of trial activities closer to patients has been enabled by a myriad of evolving technologies and services (e.g., electronic consent, telehealth and remote patient monitoring). The aim to use technology to improve the patient experience and convenience has also broadened trial access to reach a broader, more diverse patient population.\n",
      "\"It's an interesting and exciting time right now,\" said Keren Priyadarshini, Regional Business Lead - Asia, Worldwide Health, Microsoft. \"It used to be that physicians were key. Now, suddenly, patients are feeling empowered by technology. Pharmaceutical companies and other life sciences companies are realizing they have to pay attention to the patient experience in addition to the physician experience.\"\n",
      "Enhanced patient experiences can be delivered in many different ways. One example of a life sciences product that leverages the intelligent cloud to directly affect the patient experience is the Tandem® Diabetes Care insulin pump. The Tandem® t:slim X2 insulin pump with Basal-IQ technology enables patients with Type 1 diabetes to predict and prevent the low levels of blood sugar that cause hypoglycemia.2 The algorithm-driven, software- updatable pump improves the patient experience by automating chronic disease management and eliminating the need for constant finger pricks to check glucose levels.\n",
      "Tandem was able to create and deploy this innovation by leveraging the Al and machine learning capabilities of the intelligent cloud. As Al and other technologies continue to advance, potential use cases will multiply. \"Speed to value is going to continue to accelerate,\" said Lawry.\n",
      "In addition to enhancing the patient experience, pharmaceutical and other life sciences companies can leverage advanced technologies to improve relationships with providers. For example, COVID-19 is driving changes in the way companies interact with clinicians. Prior to COVID-19, 75 percent of physicians preferred in-person sales visits from medtech reps; likewise, 77 percent of physicians preferred in- person sales visits from pharma reps.3\n",
      "Since the advent of COVID-19, however, physician preferences are moving toward virtual visits. Only 53 percent of physicians now express a preference for in-person visits from medtech reps and only 40 percent prefer in-person visits from pharma reps.\" That puts the onus on pharmaceutical and life sciences organizations to deliver valuable and engaging virtual visits to providers.\n",
      "One way to do that is to leverage text analytics capabilities to enhance the provider information stored in the organization's customer relationship management (CRM) system. For example, a rep setting up a visit with 'Dr. X' could run text analytics on publicly available resources on the web to identify on which specific topics Dr. X has been writing about and commenting. \"All kinds of publicly available information can\n",
      "\" All kinds of publicly\n",
      "available information can be mined with text analytics technology, which can be used to arm the sales rep with relevant information even before he or she meets the doctor. It's a totally different, digital game now.\"\n",
      "KEREN PRIYADARSHINI | Regional Business Lead - Asia, Worldwide Health | Microsoft\n",
      "EMBRACING DIGITAL TRANSFORMATION IN LIFE SCIENCES ORGANIZATIONS\n",
      "2\n"
     ]
    }
   ],
   "source": [
    "%pip install azure-ai-formrecognizer\n",
    "final_result=\"\"\n",
    "from azure.core.credentials import AzureKeyCredential\n",
    "from azure.ai.formrecognizer import DocumentAnalysisClient\n",
    "from azure.core.credentials import AzureKeyCredential\n",
    "from azure.ai.formrecognizer import DocumentAnalysisClient\n",
    "\n",
    "endpoint = \"INSERT_END_POINT_HERE!\"\n",
    "key = \"INSERT_KEY_HERE!\"\n",
    "\n",
    "def format_bounding_box(bounding_box):\n",
    "    if not bounding_box:\n",
    "        return \"N/A\"\n",
    "    return \", \".join([\"[{}, {}]\".format(p.x, p.y) for p in bounding_box])\n",
    "\n",
    "def analyze_read():\n",
    "    formUrl = \"https://raw.githubusercontent.com/Azure-Samples/cognitive-services-REST-api-samples/master/curl/form-recognizer/rest-api/read.png\"\n",
    "\n",
    "    document_analysis_client = DocumentAnalysisClient(\n",
    "        endpoint=endpoint, credential=AzureKeyCredential(key)\n",
    "    )\n",
    "    final_result=\"\"\n",
    "\n",
    "    poller = document_analysis_client.begin_analyze_document_from_url(\n",
    "            \"prebuilt-read\", formUrl)\n",
    "    result = poller.result()\n",
    "\n",
    "    print (\"Document contains content: \", result.content)\n",
    "    return result.content\n",
    "\n",
    "\n",
    "\n",
    "\n",
    "\n",
    "final_result=analyze_read()"
   ]
  },
  {
   "cell_type": "code",
   "execution_count": 22,
   "metadata": {},
   "outputs": [
    {
     "name": "stdout",
     "output_type": "stream",
     "text": [
      "While healthcare is still in the early stages of its Al journey, we are seeing pharmaceutical and other life sciences organizations making major investments in Al and related technologies.\" TOM LAWRY | National Director for Al, Health and Life Sciences | Microsoft\n",
      "As pharmaceutical and other life sciences organizations invest in and deploy advanced technologies, they are beginning to see benefits in diverse areas across their organizations. Companies are looking to incorporate automation and continuing smart factory investments to reduce costs in drug discovery, research and development, and manufacturing and supply chain management. Many life sciences organizations are also choosing to stay with more virtual approaches in the \"new normal\" - particularly in clinical trials and sales and marketing areas.\n",
      "Enhancing the patient and provider experience\n",
      "Clinical trial sponsors are continually seeking to make clinical trials faster and to improve the experience for patients and physicians. The COVID-19 pandemic has accelerated the adoption of decentralized clinical trials, with an increase in trial activities conducted remotely and in participants' homes. In a Mckinsey survey1 up to 98 percent of patients reported satisfaction with telemedicine. In the same report, 72 percent of physicians surveyed reported similar or better experiences with remote engagement compared with in-person visits.\n",
      "The shift of trial activities closer to patients has been enabled by a myriad of evolving technologies and services (e.g., electronic consent, telehealth and remote patient monitoring). The aim to use technology to improve the patient experience and convenience has also broadened trial access to reach a broader, more diverse patient population.\n",
      "\"It's an interesting and exciting time right now,\" said Keren Priyadarshini, Regional Business Lead - Asia, Worldwide Health, Microsoft. \"It used to be that physicians were key. Now, suddenly, patients are feeling empowered by technology. Pharmaceutical companies and other life sciences companies are realizing they have to pay attention to the patient experience in addition to the physician experience.\"\n",
      "Enhanced patient experiences can be delivered in many different ways. One example of a life sciences product that leverages the intelligent cloud to directly affect the patient experience is the Tandem® Diabetes Care insulin pump. The Tandem® t:slim X2 insulin pump with Basal-IQ technology enables patients with Type 1 diabetes to predict and prevent the low levels of blood sugar that cause hypoglycemia.2 The algorithm-driven, software- updatable pump improves the patient experience by automating chronic disease management and eliminating the need for constant finger pricks to check glucose levels.\n",
      "Tandem was able to create and deploy this innovation by leveraging the Al and machine learning capabilities of the intelligent cloud. As Al and other technologies continue to advance, potential use cases will multiply. \"Speed to value is going to continue to accelerate,\" said Lawry.\n",
      "In addition to enhancing the patient experience, pharmaceutical and other life sciences companies can leverage advanced technologies to improve relationships with providers. For example, COVID-19 is driving changes in the way companies interact with clinicians. Prior to COVID-19, 75 percent of physicians preferred in-person sales visits from medtech reps; likewise, 77 percent of physicians preferred in- person sales visits from pharma reps.3\n",
      "Since the advent of COVID-19, however, physician preferences are moving toward virtual visits. Only 53 percent of physicians now express a preference for in-person visits from medtech reps and only 40 percent prefer in-person visits from pharma reps.\" That puts the onus on pharmaceutical and life sciences organizations to deliver valuable and engaging virtual visits to providers.\n",
      "One way to do that is to leverage text analytics capabilities to enhance the provider information stored in the organization's customer relationship management (CRM) system. For example, a rep setting up a visit with 'Dr. X' could run text analytics on publicly available resources on the web to identify on which specific topics Dr. X has been writing about and commenting. \"All kinds of publicly available information can\n",
      "\" All kinds of publicly\n",
      "available information can be mined with text analytics technology, which can be used to arm the sales rep with relevant information even before he or she meets the doctor. It's a totally different, digital game now.\"\n",
      "KEREN PRIYADARSHINI | Regional Business Lead - Asia, Worldwide Health | Microsoft\n",
      "EMBRACING DIGITAL TRANSFORMATION IN LIFE SCIENCES ORGANIZATIONS\n",
      "2\n"
     ]
    }
   ],
   "source": [
    "print(final_result)"
   ]
  },
  {
   "cell_type": "code",
   "execution_count": 23,
   "metadata": {},
   "outputs": [
    {
     "name": "stdout",
     "output_type": "stream",
     "text": [
      "Name: azure-search-documents\n",
      "Version: 11.4.0b10\n",
      "Summary: Microsoft Azure Cognitive Search Client Library for Python\n",
      "Home-page: https://github.com/Azure/azure-sdk-for-python/tree/main/sdk/search/azure-search-documents\n",
      "Author: Microsoft Corporation\n",
      "Author-email: ascl@microsoft.com\n",
      "License: MIT License\n",
      "Location: /Users/jnoel2/Library/Python/3.9/lib/python/site-packages\n",
      "Requires: azure-core, isodate, azure-common\n",
      "Required-by: \n",
      "Note: you may need to restart the kernel to use updated packages.\n",
      "Defaulting to user installation because normal site-packages is not writeable\n",
      "Requirement already satisfied: azure-search-documents in /Users/jnoel2/Library/Python/3.9/lib/python/site-packages (11.4.0b10)\n",
      "Requirement already satisfied: azure-core<2.0.0,>=1.24.0 in /Users/jnoel2/Library/Python/3.9/lib/python/site-packages (from azure-search-documents) (1.29.4)\n",
      "Requirement already satisfied: azure-common~=1.1 in /Users/jnoel2/Library/Python/3.9/lib/python/site-packages (from azure-search-documents) (1.1.28)\n",
      "Requirement already satisfied: isodate>=0.6.0 in /Users/jnoel2/Library/Python/3.9/lib/python/site-packages (from azure-search-documents) (0.6.1)\n",
      "Requirement already satisfied: six>=1.11.0 in /Library/Developer/CommandLineTools/Library/Frameworks/Python3.framework/Versions/3.9/lib/python3.9/site-packages (from azure-core<2.0.0,>=1.24.0->azure-search-documents) (1.15.0)\n",
      "Requirement already satisfied: requests>=2.18.4 in /Users/jnoel2/Library/Python/3.9/lib/python/site-packages (from azure-core<2.0.0,>=1.24.0->azure-search-documents) (2.31.0)\n",
      "Requirement already satisfied: typing-extensions>=4.6.0 in /Users/jnoel2/Library/Python/3.9/lib/python/site-packages (from azure-core<2.0.0,>=1.24.0->azure-search-documents) (4.8.0)\n",
      "Requirement already satisfied: certifi>=2017.4.17 in /Users/jnoel2/Library/Python/3.9/lib/python/site-packages (from requests>=2.18.4->azure-core<2.0.0,>=1.24.0->azure-search-documents) (2023.7.22)\n",
      "Requirement already satisfied: urllib3<3,>=1.21.1 in /Users/jnoel2/Library/Python/3.9/lib/python/site-packages (from requests>=2.18.4->azure-core<2.0.0,>=1.24.0->azure-search-documents) (2.0.6)\n",
      "Requirement already satisfied: idna<4,>=2.5 in /Users/jnoel2/Library/Python/3.9/lib/python/site-packages (from requests>=2.18.4->azure-core<2.0.0,>=1.24.0->azure-search-documents) (3.4)\n",
      "Requirement already satisfied: charset-normalizer<4,>=2 in /Users/jnoel2/Library/Python/3.9/lib/python/site-packages (from requests>=2.18.4->azure-core<2.0.0,>=1.24.0->azure-search-documents) (3.3.0)\n",
      "\u001b[33mWARNING: You are using pip version 21.2.4; however, version 23.2.1 is available.\n",
      "You should consider upgrading via the '/Library/Developer/CommandLineTools/usr/bin/python3 -m pip install --upgrade pip' command.\u001b[0m\n",
      "Note: you may need to restart the kernel to use updated packages.\n",
      "Name: azure-search-documents\n",
      "Version: 11.4.0b10\n",
      "Summary: Microsoft Azure Cognitive Search Client Library for Python\n",
      "Home-page: https://github.com/Azure/azure-sdk-for-python/tree/main/sdk/search/azure-search-documents\n",
      "Author: Microsoft Corporation\n",
      "Author-email: ascl@microsoft.com\n",
      "License: MIT License\n",
      "Location: /Users/jnoel2/Library/Python/3.9/lib/python/site-packages\n",
      "Requires: azure-core, isodate, azure-common\n",
      "Required-by: \n",
      "Note: you may need to restart the kernel to use updated packages.\n",
      "Index documents Deleted\n"
     ]
    }
   ],
   "source": [
    "%pip show azure-search-documents\n",
    "%pip install azure-search-documents --pre\n",
    "%pip show azure-search-documents\n",
    "\n",
    "\n",
    "import os\n",
    "from azure.core.credentials import AzureKeyCredential\n",
    "from azure.search.documents.indexes import SearchIndexClient\n",
    "from azure.search.documents import SearchClient\n",
    "from azure.search.documents.indexes.models import (\n",
    "    ComplexField,\n",
    "    CorsOptions,\n",
    "    SearchIndex,\n",
    "    ScoringProfile,\n",
    "    SearchFieldDataType,\n",
    "    SimpleField,\n",
    "    SearchableField\n",
    ")\n",
    "\n",
    "# Set the service endpoint and API key from the environment\n",
    "service_name = \"cogsearchdrlee\"\n",
    "admin_key =\"1QwByQrtPi9iyANoLalq27eQhLiFa6edQ04a6iXnkdAzSeAurKLb\"\n",
    "\n",
    "index_name = \"documents\"\n",
    "\n",
    "# Create an SDK client\n",
    "endpoint = \"https://{}.search.windows.net/\".format(service_name)\n",
    "admin_client = SearchIndexClient(endpoint=endpoint,\n",
    "                      index_name=index_name,\n",
    "                      credential=AzureKeyCredential(admin_key))\n",
    "\n",
    "search_client = SearchClient(endpoint=endpoint,\n",
    "                      index_name=index_name,\n",
    "                      credential=AzureKeyCredential(admin_key))\n",
    "# Delete the index if it exists\n",
    "try:\n",
    "    result = admin_client.delete_index(index_name)\n",
    "    print ('Index', index_name, 'Deleted')\n",
    "except Exception as ex:\n",
    "    print (ex)\n"
   ]
  },
  {
   "cell_type": "code",
   "execution_count": 24,
   "metadata": {},
   "outputs": [],
   "source": [
    "# Specify the index schema\n",
    "name = index_name\n",
    "fields = [\n",
    "        SimpleField(name=\"Id\", type=SearchFieldDataType.String, key=True),\n",
    "        SearchableField(name=\"DocumentText\", type=SearchFieldDataType.String, sortable=True),\n",
    "\n",
    "    ]\n",
    "cors_options = CorsOptions(allowed_origins=[\"*\"], max_age_in_seconds=60)\n",
    "scoring_profiles = []\n",
    "suggester = [{'name': 'sg', 'source_fields': ['DocumentText']}]"
   ]
  },
  {
   "cell_type": "code",
   "execution_count": 25,
   "metadata": {},
   "outputs": [
    {
     "name": "stdout",
     "output_type": "stream",
     "text": [
      "Index documents created\n"
     ]
    }
   ],
   "source": [
    "index = SearchIndex(\n",
    "    name=name,\n",
    "    fields=fields,\n",
    "    scoring_profiles=scoring_profiles,\n",
    "    suggesters = suggester,\n",
    "    cors_options=cors_options)\n",
    "\n",
    "try:\n",
    "    result = admin_client.create_index(index)\n",
    "    print ('Index', result.name, 'created')\n",
    "except Exception as ex:\n",
    "    print (ex)"
   ]
  },
  {
   "cell_type": "code",
   "execution_count": 26,
   "metadata": {},
   "outputs": [
    {
     "name": "stdout",
     "output_type": "stream",
     "text": [
      "[{'@search.action': 'upload', 'Id': '1', 'DocumentText': 'While healthcare is still in the early stages of its Al journey, we are seeing pharmaceutical and other life sciences organizations making major investments in Al and related technologies.\" TOM LAWRY | National Director for Al, Health and Life Sciences | Microsoft\\nAs pharmaceutical and other life sciences organizations invest in and deploy advanced technologies, they are beginning to see benefits in diverse areas across their organizations. Companies are looking to incorporate automation and continuing smart factory investments to reduce costs in drug discovery, research and development, and manufacturing and supply chain management. Many life sciences organizations are also choosing to stay with more virtual approaches in the \"new normal\" - particularly in clinical trials and sales and marketing areas.\\nEnhancing the patient and provider experience\\nClinical trial sponsors are continually seeking to make clinical trials faster and to improve the experience for patients and physicians. The COVID-19 pandemic has accelerated the adoption of decentralized clinical trials, with an increase in trial activities conducted remotely and in participants\\' homes. In a Mckinsey survey1 up to 98 percent of patients reported satisfaction with telemedicine. In the same report, 72 percent of physicians surveyed reported similar or better experiences with remote engagement compared with in-person visits.\\nThe shift of trial activities closer to patients has been enabled by a myriad of evolving technologies and services (e.g., electronic consent, telehealth and remote patient monitoring). The aim to use technology to improve the patient experience and convenience has also broadened trial access to reach a broader, more diverse patient population.\\n\"It\\'s an interesting and exciting time right now,\" said Keren Priyadarshini, Regional Business Lead - Asia, Worldwide Health, Microsoft. \"It used to be that physicians were key. Now, suddenly, patients are feeling empowered by technology. Pharmaceutical companies and other life sciences companies are realizing they have to pay attention to the patient experience in addition to the physician experience.\"\\nEnhanced patient experiences can be delivered in many different ways. One example of a life sciences product that leverages the intelligent cloud to directly affect the patient experience is the Tandem® Diabetes Care insulin pump. The Tandem® t:slim X2 insulin pump with Basal-IQ technology enables patients with Type 1 diabetes to predict and prevent the low levels of blood sugar that cause hypoglycemia.2 The algorithm-driven, software- updatable pump improves the patient experience by automating chronic disease management and eliminating the need for constant finger pricks to check glucose levels.\\nTandem was able to create and deploy this innovation by leveraging the Al and machine learning capabilities of the intelligent cloud. As Al and other technologies continue to advance, potential use cases will multiply. \"Speed to value is going to continue to accelerate,\" said Lawry.\\nIn addition to enhancing the patient experience, pharmaceutical and other life sciences companies can leverage advanced technologies to improve relationships with providers. For example, COVID-19 is driving changes in the way companies interact with clinicians. Prior to COVID-19, 75 percent of physicians preferred in-person sales visits from medtech reps; likewise, 77 percent of physicians preferred in- person sales visits from pharma reps.3\\nSince the advent of COVID-19, however, physician preferences are moving toward virtual visits. Only 53 percent of physicians now express a preference for in-person visits from medtech reps and only 40 percent prefer in-person visits from pharma reps.\" That puts the onus on pharmaceutical and life sciences organizations to deliver valuable and engaging virtual visits to providers.\\nOne way to do that is to leverage text analytics capabilities to enhance the provider information stored in the organization\\'s customer relationship management (CRM) system. For example, a rep setting up a visit with \\'Dr. X\\' could run text analytics on publicly available resources on the web to identify on which specific topics Dr. X has been writing about and commenting. \"All kinds of publicly available information can\\n\" All kinds of publicly\\navailable information can be mined with text analytics technology, which can be used to arm the sales rep with relevant information even before he or she meets the doctor. It\\'s a totally different, digital game now.\"\\nKEREN PRIYADARSHINI | Regional Business Lead - Asia, Worldwide Health | Microsoft\\nEMBRACING DIGITAL TRANSFORMATION IN LIFE SCIENCES ORGANIZATIONS\\n2'}]\n"
     ]
    }
   ],
   "source": [
    "documents = [\n",
    "    {\n",
    "    \"@search.action\": \"upload\",\n",
    "    \"Id\": \"1\",\n",
    "    \"DocumentText\": final_result\n",
    "    }\n",
    "]\n",
    "\n",
    "print(documents)"
   ]
  },
  {
   "cell_type": "code",
   "execution_count": 27,
   "metadata": {},
   "outputs": [
    {
     "name": "stdout",
     "output_type": "stream",
     "text": [
      "Upload of new document succeeded: True\n"
     ]
    }
   ],
   "source": [
    "try:\n",
    "    result = search_client.upload_documents(documents=documents)\n",
    "    print(\"Upload of new document succeeded: {}\".format(result[0].succeeded))\n",
    "except Exception as ex:\n",
    "    print (ex.message)"
   ]
  },
  {
   "cell_type": "code",
   "execution_count": 28,
   "metadata": {},
   "outputs": [],
   "source": [
    "question =\"While healthcare is still in the early stages of its Al journey,are we seeing pharmaceutical and other life sciences organizations making major investments in Al and related technologies?\""
   ]
  },
  {
   "cell_type": "code",
   "execution_count": 29,
   "metadata": {},
   "outputs": [
    {
     "name": "stdout",
     "output_type": "stream",
     "text": [
      "Total Documents Matching Query: 0\n",
      "\n"
     ]
    }
   ],
   "source": [
    "import json\n",
    "results =  search_client.search(search_text=question, include_total_count=True, select='Id,DocumentText')\n",
    "json_results=\"\"\n",
    "print ('Total Documents Matching Query:', results.get_count())\n",
    "for result in results:\n",
    "    #print(\"{}: {}: {}\".format(result[\"HotelId\"], result[\"HotelName\"], result[\"Tags\"],results[\"Address\"]))\n",
    "    json_results+=str(result)\n",
    "\n",
    "\n",
    "\n",
    "print(json_results)"
   ]
  },
  {
   "cell_type": "code",
   "execution_count": 30,
   "metadata": {},
   "outputs": [
    {
     "name": "stdout",
     "output_type": "stream",
     "text": [
      "Defaulting to user installation because normal site-packages is not writeable\n",
      "Requirement already satisfied: openai in /Users/jnoel2/Library/Python/3.9/lib/python/site-packages (0.28.1)\n",
      "Requirement already satisfied: aiohttp in /Users/jnoel2/Library/Python/3.9/lib/python/site-packages (from openai) (3.8.6)\n",
      "Requirement already satisfied: requests>=2.20 in /Users/jnoel2/Library/Python/3.9/lib/python/site-packages (from openai) (2.31.0)\n",
      "Requirement already satisfied: tqdm in /Users/jnoel2/Library/Python/3.9/lib/python/site-packages (from openai) (4.66.1)\n",
      "Requirement already satisfied: charset-normalizer<4,>=2 in /Users/jnoel2/Library/Python/3.9/lib/python/site-packages (from requests>=2.20->openai) (3.3.0)\n",
      "Requirement already satisfied: urllib3<3,>=1.21.1 in /Users/jnoel2/Library/Python/3.9/lib/python/site-packages (from requests>=2.20->openai) (2.0.6)\n",
      "Requirement already satisfied: certifi>=2017.4.17 in /Users/jnoel2/Library/Python/3.9/lib/python/site-packages (from requests>=2.20->openai) (2023.7.22)\n",
      "Requirement already satisfied: idna<4,>=2.5 in /Users/jnoel2/Library/Python/3.9/lib/python/site-packages (from requests>=2.20->openai) (3.4)\n",
      "Requirement already satisfied: attrs>=17.3.0 in /Users/jnoel2/Library/Python/3.9/lib/python/site-packages (from aiohttp->openai) (23.1.0)\n",
      "Requirement already satisfied: yarl<2.0,>=1.0 in /Users/jnoel2/Library/Python/3.9/lib/python/site-packages (from aiohttp->openai) (1.9.2)\n",
      "Requirement already satisfied: async-timeout<5.0,>=4.0.0a3 in /Users/jnoel2/Library/Python/3.9/lib/python/site-packages (from aiohttp->openai) (4.0.3)\n",
      "Requirement already satisfied: frozenlist>=1.1.1 in /Users/jnoel2/Library/Python/3.9/lib/python/site-packages (from aiohttp->openai) (1.4.0)\n",
      "Requirement already satisfied: aiosignal>=1.1.2 in /Users/jnoel2/Library/Python/3.9/lib/python/site-packages (from aiohttp->openai) (1.3.1)\n",
      "Requirement already satisfied: multidict<7.0,>=4.5 in /Users/jnoel2/Library/Python/3.9/lib/python/site-packages (from aiohttp->openai) (6.0.4)\n",
      "\u001b[33mWARNING: You are using pip version 21.2.4; however, version 23.2.1 is available.\n",
      "You should consider upgrading via the '/Library/Developer/CommandLineTools/usr/bin/python3 -m pip install --upgrade pip' command.\u001b[0m\n",
      "Note: you may need to restart the kernel to use updated packages.\n"
     ]
    }
   ],
   "source": [
    "%pip install openai"
   ]
  },
  {
   "cell_type": "code",
   "execution_count": 31,
   "metadata": {},
   "outputs": [],
   "source": [
    "###\n",
    "import os\n",
    "\n",
    "import requests\n",
    "\n",
    "import json\n",
    "\n",
    "import openai\n",
    "\n",
    "\n",
    "os.environ[\"AZURE_OPENAI_KEY\"] = \"8da2d076bbce4f4995319c032629efd0\"\n",
    "\n",
    "os.environ[\"AZURE_OPENAI_ENDPOINT\"] = \"https://ttai2335.openai.azure.com/\"\n",
    "\n",
    "openai.api_key = os.getenv(\"AZURE_OPENAI_KEY\")\n",
    "\n",
    "openai.api_base = os.getenv(\"AZURE_OPENAI_ENDPOINT\")\n",
    "\n",
    "openai.api_type = 'azure'\n",
    "\n",
    "openai.api_version = '2023-05-15'\n",
    "\n",
    "# Look in Azure OpenAI Studio > Deployments\n",
    "deployment_name = 'gpt-35-turbo'\n",
    "###\n",
    "\n",
    "# defining a function to create the prompt from the system message and the messages\n",
    "def create_prompt(system_message, messages):\n",
    "    prompt = system_message\n",
    "    message_template = \"\\n<|im_start|>{}\\n{}\\n<|im_end|>\"\n",
    "    for message in messages:\n",
    "        prompt += message_template.format(message['sender'], message['text'])\n",
    "    prompt += \"\\n<|im_start|>assistant\\n\"\n",
    "    return prompt\n",
    "\n",
    "# defining the system message\n",
    "system_message_template = \"<|im_start|>system\\n{}\\n<|im_end|>\"\n",
    "#system_message = system_message_template.format(\"You are an angry, you dont have a lot of patience, and you like to use curse words and you have a texan accent\")\n",
    "system_message = system_message_template.format(\"You are a scientist, expert in AI and Healthcare\")\n",
    "#system_message = system_message_template.format(\"\")\n",
    "\n"
   ]
  },
  {
   "cell_type": "code",
   "execution_count": 32,
   "metadata": {},
   "outputs": [
    {
     "name": "stdout",
     "output_type": "stream",
     "text": [
      "{\n",
      "  \"id\": \"cmpl-88ZaW0aaqyDkJbqhaKgPZYI242VJE\",\n",
      "  \"object\": \"text_completion\",\n",
      "  \"created\": 1697054116,\n",
      "  \"model\": \"gpt-35-turbo\",\n",
      "  \"choices\": [\n",
      "    {\n",
      "      \"text\": \"Yes, we are seeing significant investments in AI and related technologies by pharmaceutical and other life sciences organizations. These investments are aimed at improving various aspects of healthcare, including drug discovery, clinical trial design and patient care.\\n\\nAI-based drug discovery is one area where significant progress is being made. Pharmaceutical companies are using AI to analyze large volumes of data and identify new drug targets and potential drug candidates. AI is also being used to design clinical trials that are more efficient, cost-effective, and more likely to yield positive results.\\n\\nIn patient care, AI is being used to develop personalized treatment plans based on a patient's medical history, genetic makeup, and other factors. AI is also being used to monitor patients in real-time, predict health outcomes, and detect diseases early.\\n\\nOverall, AI has the potential to transform healthcare, and we are seeing significant investments in this area by pharmaceutical and other life sciences organizations.\",\n",
      "      \"index\": 0,\n",
      "      \"finish_reason\": \"stop\",\n",
      "      \"logprobs\": null\n",
      "    }\n",
      "  ],\n",
      "  \"usage\": {\n",
      "    \"completion_tokens\": 178,\n",
      "    \"prompt_tokens\": 69,\n",
      "    \"total_tokens\": 247\n",
      "  }\n",
      "}\n"
     ]
    }
   ],
   "source": [
    "# creating a list of messages to track the conversation\n",
    "messages = [{\"sender\": \"user\", \"text\": \"Hello, take into account the following information \"+json_results},\n",
    "            {\"sender\": \"user\", \"text\": question},\n",
    "\n",
    "            ]\n",
    "response = openai.Completion.create(\n",
    "  engine=deployment_name,\n",
    "  prompt= create_prompt(system_message, messages),\n",
    "  temperature=0.7,\n",
    "  max_tokens=800,\n",
    "  top_p=0.95,\n",
    "  frequency_penalty=0,\n",
    "  presence_penalty=0,\n",
    "    stop=[\"<|im_end|>\"])\n",
    "\n",
    "\n",
    "\n",
    "\n",
    "print(response)"
   ]
  },
  {
   "cell_type": "code",
   "execution_count": 33,
   "metadata": {},
   "outputs": [],
   "source": [
    "question =\"How are companies working to enchance the patient and provider experience?\""
   ]
  },
  {
   "cell_type": "code",
   "execution_count": 34,
   "metadata": {},
   "outputs": [
    {
     "name": "stdout",
     "output_type": "stream",
     "text": [
      "{\n",
      "  \"id\": \"cmpl-88ZabLd7bIUPz6s7fn3apkAAL6q3x\",\n",
      "  \"object\": \"text_completion\",\n",
      "  \"created\": 1697054121,\n",
      "  \"model\": \"gpt-35-turbo\",\n",
      "  \"choices\": [\n",
      "    {\n",
      "      \"text\": \"Companies are working to enhance the patient and provider experience in several ways using AI and other technological tools. One way is by developing virtual assistants or chatbots that can help patients schedule appointments, get information about their health conditions, and provide guidance on self-care. These virtual assistants can also help healthcare providers by automating administrative tasks such as updating patient records and sending reminders to patients.\\n\\nAnother way companies are enhancing the patient and provider experience is by using predictive analytics to identify patients at risk of certain health conditions or diseases. This information can help healthcare providers take proactive measures to prevent or manage these conditions, improving patient outcomes.\\n\\nCompanies are also developing AI-powered diagnostic tools that can help healthcare providers make more accurate diagnoses and develop personalized treatment plans for their patients. These tools can analyze vast amounts of medical data and identify patterns that may not be visible to the human eye, leading to more precise and efficient healthcare.\\n\\nFinally, companies are working to improve the interoperability of healthcare data systems, making it easier for healthcare providers to access and share patient information across different systems and platforms. This can help improve the overall quality of care and enhance the patient experience by reducing redundancies and improving communication between healthcare providers.\",\n",
      "      \"index\": 0,\n",
      "      \"finish_reason\": \"stop\",\n",
      "      \"logprobs\": null\n",
      "    }\n",
      "  ],\n",
      "  \"usage\": {\n",
      "    \"completion_tokens\": 236,\n",
      "    \"prompt_tokens\": 51,\n",
      "    \"total_tokens\": 287\n",
      "  }\n",
      "}\n"
     ]
    }
   ],
   "source": [
    "# creating a list of messages to track the conversation\n",
    "messages = [{\"sender\": \"user\", \"text\": \"Hello, take into account the following information \"+json_results},\n",
    "            {\"sender\": \"user\", \"text\": question},\n",
    "\n",
    "            ]\n",
    "response = openai.Completion.create(\n",
    "  engine=deployment_name,\n",
    "  prompt= create_prompt(system_message, messages),\n",
    "  temperature=0.7,\n",
    "  max_tokens=800,\n",
    "  top_p=0.95,\n",
    "  frequency_penalty=0,\n",
    "  presence_penalty=0,\n",
    "    stop=[\"<|im_end|>\"])\n",
    "\n",
    "\n",
    "\n",
    "\n",
    "print(response)\n"
   ]
  },
  {
   "cell_type": "code",
   "execution_count": 35,
   "metadata": {},
   "outputs": [],
   "source": [
    "question =\"Is healthcare is still in the early stages of its Al journey?\"\n"
   ]
  },
  {
   "cell_type": "code",
   "execution_count": 36,
   "metadata": {},
   "outputs": [
    {
     "name": "stdout",
     "output_type": "stream",
     "text": [
      "\n",
      "{\n",
      "  \"id\": \"cmpl-88ZahuU1fQ2qTuFTc1h2WWWf2ctuj\",\n",
      "  \"object\": \"text_completion\",\n",
      "  \"created\": 1697054127,\n",
      "  \"model\": \"gpt-35-turbo\",\n",
      "  \"choices\": [\n",
      "    {\n",
      "      \"text\": \"Although there have been significant advancements in the use of AI in healthcare, it is still considered to be in the early stages of its AI journey. The healthcare industry has only begun to scratch the surface of the potential benefits that AI can offer. However, as more data becomes available and AI algorithms become more sophisticated, the potential for AI to revolutionize healthcare is tremendous.\",\n",
      "      \"index\": 0,\n",
      "      \"finish_reason\": \"stop\",\n",
      "      \"logprobs\": null\n",
      "    }\n",
      "  ],\n",
      "  \"usage\": {\n",
      "    \"completion_tokens\": 73,\n",
      "    \"prompt_tokens\": 54,\n",
      "    \"total_tokens\": 127\n",
      "  }\n",
      "}\n"
     ]
    }
   ],
   "source": [
    "# creating a list of messages to track the conversation\n",
    "print(json_results)\n",
    "messages = [{\"sender\": \"user\", \"text\": \"Hello, take into account the following information from your database \"+json_results},\n",
    "            {\"sender\": \"user\", \"text\": question},\n",
    "\n",
    "            ]\n",
    "response = openai.Completion.create(\n",
    "  engine=deployment_name,\n",
    "  prompt= create_prompt(system_message, messages),\n",
    "  temperature=0.7,\n",
    "  max_tokens=800,\n",
    "  top_p=0.95,\n",
    "  frequency_penalty=0,\n",
    "  presence_penalty=0,\n",
    "    stop=[\"<|im_end|>\"])\n",
    "\n",
    "\n",
    "\n",
    "\n",
    "print(response)\n"
   ]
  }
 ],
 "metadata": {
  "kernelspec": {
   "display_name": "Python 3",
   "language": "python",
   "name": "python3"
  },
  "language_info": {
   "codemirror_mode": {
    "name": "ipython",
    "version": 3
   },
   "file_extension": ".py",
   "mimetype": "text/x-python",
   "name": "python",
   "nbconvert_exporter": "python",
   "pygments_lexer": "ipython3",
   "version": "3.9.6"
  },
  "orig_nbformat": 4
 },
 "nbformat": 4,
 "nbformat_minor": 2
}
